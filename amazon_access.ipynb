{
 "metadata": {
  "language_info": {
   "codemirror_mode": {
    "name": "ipython",
    "version": 3
   },
   "file_extension": ".py",
   "mimetype": "text/x-python",
   "name": "python",
   "nbconvert_exporter": "python",
   "pygments_lexer": "ipython3",
   "version": "3.8.3-final"
  },
  "orig_nbformat": 2,
  "kernelspec": {
   "name": "python_defaultSpec_1613016895160",
   "display_name": "Python 3.8.3 64-bit ('base': conda)"
  }
 },
 "nbformat": 4,
 "nbformat_minor": 2,
 "cells": [
  {
   "cell_type": "code",
   "execution_count": 1,
   "metadata": {},
   "outputs": [],
   "source": [
    "import pandas as pd\n",
    "import numpy as np\n",
    "\n",
    "amazon = pd.read_csv('train.csv')"
   ]
  },
  {
   "cell_type": "code",
   "execution_count": 2,
   "metadata": {},
   "outputs": [
    {
     "output_type": "execute_result",
     "data": {
      "text/plain": "   ACTION  RESOURCE  MGR_ID  ROLE_ROLLUP_1  ROLE_ROLLUP_2  ROLE_DEPTNAME  \\\n0       1     39353   85475         117961         118300         123472   \n1       1     17183    1540         117961         118343         123125   \n2       1     36724   14457         118219         118220         117884   \n3       1     36135    5396         117961         118343         119993   \n4       1     42680    5905         117929         117930         119569   \n\n   ROLE_TITLE  ROLE_FAMILY_DESC  ROLE_FAMILY  ROLE_CODE  \n0      117905            117906       290919     117908  \n1      118536            118536       308574     118539  \n2      117879            267952        19721     117880  \n3      118321            240983       290919     118322  \n4      119323            123932        19793     119325  ",
      "text/html": "<div>\n<style scoped>\n    .dataframe tbody tr th:only-of-type {\n        vertical-align: middle;\n    }\n\n    .dataframe tbody tr th {\n        vertical-align: top;\n    }\n\n    .dataframe thead th {\n        text-align: right;\n    }\n</style>\n<table border=\"1\" class=\"dataframe\">\n  <thead>\n    <tr style=\"text-align: right;\">\n      <th></th>\n      <th>ACTION</th>\n      <th>RESOURCE</th>\n      <th>MGR_ID</th>\n      <th>ROLE_ROLLUP_1</th>\n      <th>ROLE_ROLLUP_2</th>\n      <th>ROLE_DEPTNAME</th>\n      <th>ROLE_TITLE</th>\n      <th>ROLE_FAMILY_DESC</th>\n      <th>ROLE_FAMILY</th>\n      <th>ROLE_CODE</th>\n    </tr>\n  </thead>\n  <tbody>\n    <tr>\n      <th>0</th>\n      <td>1</td>\n      <td>39353</td>\n      <td>85475</td>\n      <td>117961</td>\n      <td>118300</td>\n      <td>123472</td>\n      <td>117905</td>\n      <td>117906</td>\n      <td>290919</td>\n      <td>117908</td>\n    </tr>\n    <tr>\n      <th>1</th>\n      <td>1</td>\n      <td>17183</td>\n      <td>1540</td>\n      <td>117961</td>\n      <td>118343</td>\n      <td>123125</td>\n      <td>118536</td>\n      <td>118536</td>\n      <td>308574</td>\n      <td>118539</td>\n    </tr>\n    <tr>\n      <th>2</th>\n      <td>1</td>\n      <td>36724</td>\n      <td>14457</td>\n      <td>118219</td>\n      <td>118220</td>\n      <td>117884</td>\n      <td>117879</td>\n      <td>267952</td>\n      <td>19721</td>\n      <td>117880</td>\n    </tr>\n    <tr>\n      <th>3</th>\n      <td>1</td>\n      <td>36135</td>\n      <td>5396</td>\n      <td>117961</td>\n      <td>118343</td>\n      <td>119993</td>\n      <td>118321</td>\n      <td>240983</td>\n      <td>290919</td>\n      <td>118322</td>\n    </tr>\n    <tr>\n      <th>4</th>\n      <td>1</td>\n      <td>42680</td>\n      <td>5905</td>\n      <td>117929</td>\n      <td>117930</td>\n      <td>119569</td>\n      <td>119323</td>\n      <td>123932</td>\n      <td>19793</td>\n      <td>119325</td>\n    </tr>\n  </tbody>\n</table>\n</div>"
     },
     "metadata": {},
     "execution_count": 2
    }
   ],
   "source": [
    "amazon.head()"
   ]
  },
  {
   "cell_type": "code",
   "execution_count": 3,
   "metadata": {
    "tags": []
   },
   "outputs": [
    {
     "output_type": "stream",
     "name": "stdout",
     "text": "<class 'pandas.core.frame.DataFrame'>\nRangeIndex: 32769 entries, 0 to 32768\nData columns (total 10 columns):\n #   Column            Non-Null Count  Dtype\n---  ------            --------------  -----\n 0   ACTION            32769 non-null  int64\n 1   RESOURCE          32769 non-null  int64\n 2   MGR_ID            32769 non-null  int64\n 3   ROLE_ROLLUP_1     32769 non-null  int64\n 4   ROLE_ROLLUP_2     32769 non-null  int64\n 5   ROLE_DEPTNAME     32769 non-null  int64\n 6   ROLE_TITLE        32769 non-null  int64\n 7   ROLE_FAMILY_DESC  32769 non-null  int64\n 8   ROLE_FAMILY       32769 non-null  int64\n 9   ROLE_CODE         32769 non-null  int64\ndtypes: int64(10)\nmemory usage: 2.5 MB\n"
    }
   ],
   "source": [
    "amazon.info()"
   ]
  },
  {
   "cell_type": "code",
   "execution_count": 5,
   "metadata": {},
   "outputs": [
    {
     "output_type": "execute_result",
     "data": {
      "text/plain": "(32769, 10)"
     },
     "metadata": {},
     "execution_count": 5
    }
   ],
   "source": [
    "amazon.shape"
   ]
  },
  {
   "cell_type": "code",
   "execution_count": 6,
   "metadata": {},
   "outputs": [
    {
     "output_type": "execute_result",
     "data": {
      "text/plain": "ACTION              0\nRESOURCE            0\nMGR_ID              0\nROLE_ROLLUP_1       0\nROLE_ROLLUP_2       0\nROLE_DEPTNAME       0\nROLE_TITLE          0\nROLE_FAMILY_DESC    0\nROLE_FAMILY         0\nROLE_CODE           0\ndtype: int64"
     },
     "metadata": {},
     "execution_count": 6
    }
   ],
   "source": [
    "amazon.isnull().sum()"
   ]
  },
  {
   "cell_type": "code",
   "execution_count": null,
   "metadata": {},
   "outputs": [],
   "source": []
  }
 ]
}